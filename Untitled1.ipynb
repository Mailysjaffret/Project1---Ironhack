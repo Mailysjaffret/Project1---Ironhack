{
 "cells": [
  {
   "cell_type": "code",
   "execution_count": null,
   "id": "5803ad98-819f-4b68-b443-b8a437c5ce42",
   "metadata": {},
   "outputs": [],
   "source": [
    "import pandas as pd\n",
    "\n",
    "demo_df1 (../../"
   ]
  },
  {
   "cell_type": "code",
   "execution_count": 1,
   "id": "edc71283-81a2-4278-a740-7bfdd99e6371",
   "metadata": {},
   "outputs": [
    {
     "data": {
      "text/plain": [
       "'/Users/mailysjaffret/Desktop/IRONHACK/Project1_olympics_games/Project1---Ironhack'"
      ]
     },
     "execution_count": 1,
     "metadata": {},
     "output_type": "execute_result"
    }
   ],
   "source": [
    "pwd"
   ]
  },
  {
   "cell_type": "code",
   "execution_count": null,
   "id": "ac09202a-5d52-490d-9b77-e95f6b94f221",
   "metadata": {},
   "outputs": [],
   "source": []
  }
 ],
 "metadata": {
  "kernelspec": {
   "display_name": "venv",
   "language": "python",
   "name": "venv"
  },
  "language_info": {
   "codemirror_mode": {
    "name": "ipython",
    "version": 3
   },
   "file_extension": ".py",
   "mimetype": "text/x-python",
   "name": "python",
   "nbconvert_exporter": "python",
   "pygments_lexer": "ipython3",
   "version": "3.11.5"
  }
 },
 "nbformat": 4,
 "nbformat_minor": 5
}

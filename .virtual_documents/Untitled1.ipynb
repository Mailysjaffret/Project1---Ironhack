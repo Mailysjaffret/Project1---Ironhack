import pandas as pd

demo_df1 (../../


pwd




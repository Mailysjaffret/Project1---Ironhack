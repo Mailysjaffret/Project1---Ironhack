{
 "cells": [
  {
   "cell_type": "code",
   "execution_count": null,
   "id": "70b8d836-d380-40d5-b98f-bf6bdbfab43a",
   "metadata": {},
   "outputs": [],
   "source": [
    "# Marco data frame"
   ]
  },
  {
   "cell_type": "code",
   "execution_count": 3,
   "id": "06f6ed1a-85b8-4b21-9526-fe8d62db121a",
   "metadata": {},
   "outputs": [
    {
     "data": {
      "text/plain": [
       "'/Users/marco_mo/Ironhack/Week03/Group_Project/Project1---Ironhack/notebooks/Marco'"
      ]
     },
     "execution_count": 3,
     "metadata": {},
     "output_type": "execute_result"
    }
   ],
   "source": [
    "pwd"
   ]
  },
  {
   "cell_type": "code",
   "execution_count": 5,
   "id": "4236532b-d2a5-4283-9f6a-e152cf1f1614",
   "metadata": {},
   "outputs": [
    {
     "data": {
      "text/html": [
       "<div>\n",
       "<style scoped>\n",
       "    .dataframe tbody tr th:only-of-type {\n",
       "        vertical-align: middle;\n",
       "    }\n",
       "\n",
       "    .dataframe tbody tr th {\n",
       "        vertical-align: top;\n",
       "    }\n",
       "\n",
       "    .dataframe thead th {\n",
       "        text-align: right;\n",
       "    }\n",
       "</style>\n",
       "<table border=\"1\" class=\"dataframe\">\n",
       "  <thead>\n",
       "    <tr style=\"text-align: right;\">\n",
       "      <th></th>\n",
       "      <th>athlete_id</th>\n",
       "      <th>name</th>\n",
       "      <th>sex</th>\n",
       "      <th>born</th>\n",
       "      <th>country</th>\n",
       "      <th>country_noc</th>\n",
       "    </tr>\n",
       "  </thead>\n",
       "  <tbody>\n",
       "    <tr>\n",
       "      <th>0</th>\n",
       "      <td>65649</td>\n",
       "      <td>Ivanka Bonova</td>\n",
       "      <td>Female</td>\n",
       "      <td>4 April 1949</td>\n",
       "      <td>Bulgaria</td>\n",
       "      <td>BUL</td>\n",
       "    </tr>\n",
       "    <tr>\n",
       "      <th>1</th>\n",
       "      <td>112510</td>\n",
       "      <td>Nataliya Uryadova</td>\n",
       "      <td>Female</td>\n",
       "      <td>15 March 1977</td>\n",
       "      <td>Russian Federation</td>\n",
       "      <td>RUS</td>\n",
       "    </tr>\n",
       "    <tr>\n",
       "      <th>2</th>\n",
       "      <td>114973</td>\n",
       "      <td>Essa Ismail Rashed</td>\n",
       "      <td>Male</td>\n",
       "      <td>14 December 1986</td>\n",
       "      <td>Qatar</td>\n",
       "      <td>QAT</td>\n",
       "    </tr>\n",
       "    <tr>\n",
       "      <th>3</th>\n",
       "      <td>30359</td>\n",
       "      <td>Péter Boros</td>\n",
       "      <td>Male</td>\n",
       "      <td>12 January 1908</td>\n",
       "      <td>Hungary</td>\n",
       "      <td>HUN</td>\n",
       "    </tr>\n",
       "    <tr>\n",
       "      <th>4</th>\n",
       "      <td>50557</td>\n",
       "      <td>Rudolf Piowatý</td>\n",
       "      <td>Male</td>\n",
       "      <td>28 April 1900</td>\n",
       "      <td>Czechoslovakia</td>\n",
       "      <td>TCH</td>\n",
       "    </tr>\n",
       "  </tbody>\n",
       "</table>\n",
       "</div>"
      ],
      "text/plain": [
       "   athlete_id                name     sex              born  \\\n",
       "0       65649       Ivanka Bonova  Female      4 April 1949   \n",
       "1      112510   Nataliya Uryadova  Female     15 March 1977   \n",
       "2      114973  Essa Ismail Rashed    Male  14 December 1986   \n",
       "3       30359         Péter Boros    Male   12 January 1908   \n",
       "4       50557      Rudolf Piowatý    Male     28 April 1900   \n",
       "\n",
       "               country country_noc  \n",
       "0             Bulgaria         BUL  \n",
       "1   Russian Federation         RUS  \n",
       "2                Qatar         QAT  \n",
       "3              Hungary         HUN  \n",
       "4       Czechoslovakia         TCH  "
      ]
     },
     "execution_count": 5,
     "metadata": {},
     "output_type": "execute_result"
    }
   ],
   "source": [
    "import pandas as pd\n",
    "\n",
    "# Read the CSV file into a DataFrame\n",
    "demo_df1 = pd.read_csv('../../data/raw/Olympic_Athlete_Bio.csv')\n",
    "demo_df1 = demo_df1.drop(columns=[\"height\", \"weight\", \"description\", \"special_notes\"])\n",
    "# Display the first few rows of the DataFrame\n",
    "demo_df1.head()"
   ]
  },
  {
   "cell_type": "code",
   "execution_count": 6,
   "id": "f287fb0f-2aa7-4c3c-9e91-2ec3bdaec802",
   "metadata": {},
   "outputs": [
    {
     "data": {
      "text/plain": [
       "array(['Female', 'Male'], dtype=object)"
      ]
     },
     "execution_count": 6,
     "metadata": {},
     "output_type": "execute_result"
    }
   ],
   "source": [
    "demo_df1['sex'].unique()"
   ]
  },
  {
   "cell_type": "code",
   "execution_count": null,
   "id": "cffa1e34-e6b3-4ce6-b51f-b751494e069a",
   "metadata": {},
   "outputs": [],
   "source": [
    "demo_df1.rename(columns= {'sex':'gender', }, inplace=True)"
   ]
  }
 ],
 "metadata": {
  "kernelspec": {
   "display_name": "venv",
   "language": "python",
   "name": "venv"
  },
  "language_info": {
   "codemirror_mode": {
    "name": "ipython",
    "version": 3
   },
   "file_extension": ".py",
   "mimetype": "text/x-python",
   "name": "python",
   "nbconvert_exporter": "python",
   "pygments_lexer": "ipython3",
   "version": "3.12.4"
  }
 },
 "nbformat": 4,
 "nbformat_minor": 5
}
